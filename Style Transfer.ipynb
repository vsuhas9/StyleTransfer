{
  "nbformat": 4,
  "nbformat_minor": 0,
  "metadata": {
    "colab": {
      "provenance": [],
      "gpuType": "T4",
      "authorship_tag": "ABX9TyNBwgxMySfWtS/tF9SmMjDX",
      "include_colab_link": true
    },
    "kernelspec": {
      "name": "python3",
      "display_name": "Python 3"
    },
    "language_info": {
      "name": "python"
    },
    "accelerator": "GPU"
  },
  "cells": [
    {
      "cell_type": "markdown",
      "metadata": {
        "id": "view-in-github",
        "colab_type": "text"
      },
      "source": [
        "<a href=\"https://colab.research.google.com/github/vsuhas9/StyleTransfer/blob/dev-suhas/Style%20Transfer.ipynb\" target=\"_parent\"><img src=\"https://colab.research.google.com/assets/colab-badge.svg\" alt=\"Open In Colab\"/></a>"
      ]
    },
    {
      "cell_type": "markdown",
      "source": [
        "# Imports"
      ],
      "metadata": {
        "id": "J-mhYGQ6KpyU"
      }
    },
    {
      "cell_type": "code",
      "execution_count": 4,
      "metadata": {
        "id": "opFCfkhvJpZu"
      },
      "outputs": [],
      "source": [
        "# Package to handle files\n",
        "import os\n",
        "\n",
        "# Image Handling\n",
        "import numpy as np\n",
        "\n",
        "# Memory Handling\n",
        "import gc\n",
        "from numba import cuda\n",
        "\n",
        "# Tensorflow Componenets\n",
        "import tensorflow as tf\n",
        "from tensorflow import keras\n",
        "from tensorflow.keras.applications import vgg19\n",
        "from tensorflow.keras.backend import clear_session"
      ]
    },
    {
      "cell_type": "markdown",
      "source": [
        "# Few Initial Configuration"
      ],
      "metadata": {
        "id": "t7I-SWhdXHdK"
      }
    },
    {
      "cell_type": "code",
      "source": [
        "result_prefix = \"generated\"\n",
        "\n",
        "# Weights of the different loss components\n",
        "total_variation_weight = 1e-6\n",
        "style_weight = 1e-6\n",
        "content_weight = 2.5e-8\n",
        "\n",
        "# Dimensions of the generated picture.\n",
        "img_nrows = 600\n",
        "#img_ncols = int(width * img_nrows / height)"
      ],
      "metadata": {
        "id": "EkiRUuxpXH9q"
      },
      "execution_count": 5,
      "outputs": []
    },
    {
      "cell_type": "markdown",
      "source": [
        "# Download the Transfer Images and Style Images"
      ],
      "metadata": {
        "id": "7OUzEC6KLhba"
      }
    },
    {
      "cell_type": "code",
      "source": [
        "!rm -rf target_images.zip\n",
        "!rm -rf target_images\n",
        "\n",
        "!rm -rf style_images.zip\n",
        "!rm -rf style_images\n",
        "\n",
        "!rm -rf outputs\n",
        "\n",
        "!wget https://raw.githubusercontent.com/vsuhas9/StyleTransfer/dev-suhas/Images/target/target_images.zip\n",
        "!unzip /content/target_images.zip\n",
        "\n",
        "!wget https://raw.githubusercontent.com/vsuhas9/StyleTransfer/dev-suhas/Images/style/style_images.zip\n",
        "!unzip /content/style_images.zip\n",
        "\n",
        "!mkdir outputs"
      ],
      "metadata": {
        "colab": {
          "base_uri": "https://localhost:8080/"
        },
        "id": "8kSjloDMLl1A",
        "outputId": "57ebdf9e-d778-47c1-c3ed-77d44b038dae"
      },
      "execution_count": 6,
      "outputs": [
        {
          "output_type": "stream",
          "name": "stdout",
          "text": [
            "--2024-01-18 18:18:46--  https://raw.githubusercontent.com/vsuhas9/StyleTransfer/dev-suhas/Images/target/target_images.zip\n",
            "Resolving raw.githubusercontent.com (raw.githubusercontent.com)... 185.199.108.133, 185.199.109.133, 185.199.110.133, ...\n",
            "Connecting to raw.githubusercontent.com (raw.githubusercontent.com)|185.199.108.133|:443... connected.\n",
            "HTTP request sent, awaiting response... 200 OK\n",
            "Length: 5468160 (5.2M) [application/zip]\n",
            "Saving to: ‘target_images.zip’\n",
            "\n",
            "\rtarget_images.zip     0%[                    ]       0  --.-KB/s               \rtarget_images.zip   100%[===================>]   5.21M  --.-KB/s    in 0.03s   \n",
            "\n",
            "2024-01-18 18:18:46 (178 MB/s) - ‘target_images.zip’ saved [5468160/5468160]\n",
            "\n",
            "Archive:  /content/target_images.zip\n",
            "   creating: target_images/\n",
            "  inflating: target_images/Masterlayer_Event221_SetA.png  \n",
            "--2024-01-18 18:18:46--  https://raw.githubusercontent.com/vsuhas9/StyleTransfer/dev-suhas/Images/style/style_images.zip\n",
            "Resolving raw.githubusercontent.com (raw.githubusercontent.com)... 185.199.110.133, 185.199.108.133, 185.199.111.133, ...\n",
            "Connecting to raw.githubusercontent.com (raw.githubusercontent.com)|185.199.110.133|:443... connected.\n",
            "HTTP request sent, awaiting response... 200 OK\n",
            "Length: 71680 (70K) [application/zip]\n",
            "Saving to: ‘style_images.zip’\n",
            "\n",
            "style_images.zip    100%[===================>]  70.00K  --.-KB/s    in 0.004s  \n",
            "\n",
            "2024-01-18 18:18:47 (17.8 MB/s) - ‘style_images.zip’ saved [71680/71680]\n",
            "\n",
            "Archive:  /content/style_images.zip\n",
            "   creating: style_images/\n",
            "  inflating: style_images/ghost_demon.jpg  \n"
          ]
        }
      ]
    },
    {
      "cell_type": "markdown",
      "source": [
        "# Image paths and other componenets"
      ],
      "metadata": {
        "id": "epRDRL9vXVld"
      }
    },
    {
      "cell_type": "code",
      "source": [
        "def list_files(folder_path):\n",
        "    files = []\n",
        "    for entry in os.listdir(folder_path):\n",
        "        if os.path.isfile(os.path.join(folder_path, entry)):\n",
        "            files.append( folder_path + entry)\n",
        "    return files\n",
        "\n",
        "# Example usage\n",
        "target_folder_path = '/content/target_images/'\n",
        "style_folder_path = '/content/style_images/'\n",
        "\n",
        "try:\n",
        "  target_images =  list_files(target_folder_path)\n",
        "  style_images = list_files(style_folder_path)\n",
        "\n",
        "  print(str(len(target_images)) + \" Target Images loaded & \" + str(len(style_images)) + \" Style Images loaded\" )\n",
        "except:\n",
        "  print(\"Error loading the files\")"
      ],
      "metadata": {
        "colab": {
          "base_uri": "https://localhost:8080/"
        },
        "id": "-3bMVz8oMrAP",
        "outputId": "e4a88f31-c0a8-4de6-f0f5-104843c1833e"
      },
      "execution_count": 7,
      "outputs": [
        {
          "output_type": "stream",
          "name": "stdout",
          "text": [
            "1 Target Images loaded & 1 Style Images loaded\n"
          ]
        }
      ]
    },
    {
      "cell_type": "markdown",
      "source": [
        "# Image Pre-Processing"
      ],
      "metadata": {
        "id": "GinOLmdQa1e3"
      }
    },
    {
      "cell_type": "code",
      "source": [
        "def preprocess_image(image_path, img_nrows, img_ncols):\n",
        "    # Util function to open, resize and format\n",
        "    # pictures into appropriate tensors\n",
        "    img = keras.preprocessing.image.load_img(\n",
        "        image_path, target_size=(img_nrows, img_ncols)\n",
        "    )\n",
        "    img = keras.preprocessing.image.img_to_array(img)\n",
        "    img = np.expand_dims(img, axis=0)\n",
        "    img = vgg19.preprocess_input(img)\n",
        "    return tf.convert_to_tensor(img)\n",
        "\n",
        "\n",
        "def deprocess_image(x, img_nrows, img_ncols):\n",
        "    # Util function to convert a tensor into a valid image\n",
        "    x = x.reshape((img_nrows, img_ncols, 3))\n",
        "    # Remove zero-center by mean pixel\n",
        "    x[:, :, 0] += 103.939\n",
        "    x[:, :, 1] += 116.779\n",
        "    x[:, :, 2] += 123.68\n",
        "    # 'BGR'->'RGB'\n",
        "    x = x[:, :, ::-1]\n",
        "    x = np.clip(x, 0, 255).astype(\"uint8\")\n",
        "    return x"
      ],
      "metadata": {
        "id": "Sumo_LpQa2Ce"
      },
      "execution_count": 8,
      "outputs": []
    },
    {
      "cell_type": "markdown",
      "source": [
        "# Gram Matrix and Loss Calculation Functions"
      ],
      "metadata": {
        "id": "8RaD9HuXbL9S"
      }
    },
    {
      "cell_type": "code",
      "source": [
        "def gram_matrix(x, img_nrows, img_ncols):\n",
        "    x = tf.transpose(x, (2, 0, 1))\n",
        "    features = tf.reshape(x, (tf.shape(x)[0], -1))\n",
        "    gram = tf.matmul(features, tf.transpose(features))\n",
        "    return gram\n",
        "\n",
        "def style_loss(style, combination, img_nrows, img_ncols):\n",
        "    S = gram_matrix(style, img_nrows, img_ncols)\n",
        "    C = gram_matrix(combination, img_nrows, img_ncols)\n",
        "    channels = 3\n",
        "    size = img_nrows * img_ncols\n",
        "    return tf.reduce_sum(tf.square(S - C)) /\\\n",
        "      (4.0 * (channels ** 2) * (size ** 2))\n",
        "\n",
        "def content_loss(base, combination):\n",
        "    return tf.reduce_sum(tf.square(combination - base))\n",
        "\n",
        "def total_variation_loss(x, img_nrows, img_ncols):\n",
        "    a = tf.square(\n",
        "        x[:, : img_nrows - 1, : img_ncols - 1, :] \\\n",
        "          - x[:, 1:, : img_ncols - 1, :]\n",
        "    )\n",
        "    b = tf.square(\n",
        "        x[:, : img_nrows - 1, : img_ncols - 1, :] \\\n",
        "          - x[:, : img_nrows - 1, 1:, :]\n",
        "    )\n",
        "    return tf.reduce_sum(tf.pow(a + b, 1.25))"
      ],
      "metadata": {
        "id": "40g1tSJBbKSq"
      },
      "execution_count": 9,
      "outputs": []
    },
    {
      "cell_type": "markdown",
      "source": [
        "# VGG Neural Network"
      ],
      "metadata": {
        "id": "ZAyboOcnbn7b"
      }
    },
    {
      "cell_type": "code",
      "source": [
        "def compute_loss(combination_image, base_image, style_reference_image, img_nrows, img_ncols, feature_extractor, content_layer_name, style_layer_names):\n",
        "    input_tensor = tf.concat(\n",
        "        [base_image, style_reference_image, combination_image], axis=0\n",
        "    )\n",
        "    features = feature_extractor(input_tensor)\n",
        "\n",
        "    # Initialize the loss\n",
        "    loss = tf.zeros(shape=())\n",
        "\n",
        "    # Add content loss\n",
        "    layer_features = features[content_layer_name]\n",
        "    base_image_features = layer_features[0, :, :, :]\n",
        "    combination_features = layer_features[2, :, :, :]\n",
        "    loss = loss + content_weight * content_loss(\n",
        "        base_image_features, combination_features\n",
        "    )\n",
        "    # Add style loss\n",
        "    for layer_name in style_layer_names:\n",
        "        layer_features = features[layer_name]\n",
        "        style_reference_features = layer_features[1, :, :, :]\n",
        "        combination_features = layer_features[2, :, :, :]\n",
        "        sl = style_loss(style_reference_features, combination_features, img_nrows, img_ncols)\n",
        "        loss += (style_weight / len(style_layer_names)) * sl\n",
        "\n",
        "    # Add total variation loss\n",
        "    loss += total_variation_weight * \\\n",
        "      total_variation_loss(combination_image, img_nrows, img_ncols)\n",
        "    return loss\n",
        "\n",
        "@tf.function\n",
        "def compute_loss_and_grads(combination_image, \\\n",
        "                  base_image, style_reference_image, img_nrows, img_ncols, feature_extractor, content_layer_name, style_layer_names):\n",
        "    with tf.GradientTape() as tape:\n",
        "        loss = compute_loss(combination_image, \\\n",
        "                base_image, style_reference_image, img_nrows, img_ncols, feature_extractor, content_layer_name, style_layer_names)\n",
        "    grads = tape.gradient(loss, combination_image)\n",
        "    return loss, grads"
      ],
      "metadata": {
        "id": "pRqyhX2zbh5n"
      },
      "execution_count": 10,
      "outputs": []
    },
    {
      "cell_type": "code",
      "source": [
        "def get_styled_images(target_image_address, style_image_address,):\n",
        "\n",
        "  width, height = keras.preprocessing.image.load_img(target_image_address).size\n",
        "  img_nrows = 400\n",
        "  img_ncols = int(width * img_nrows / height)\n",
        "\n",
        "  target_name = target_image_address.replace(target_folder_path, \"\")\n",
        "  style_image = style_image_address.replace(style_folder_path, \"\")\n",
        "\n",
        "  base_image = preprocess_image(target_image_address, img_nrows, img_ncols)\n",
        "  style_reference_image = preprocess_image(style_image_address, img_nrows, img_ncols)\n",
        "  combination_image = tf.Variable(preprocess_image(target_image_address, img_nrows, img_ncols))\n",
        "  print(\"Current Image is :\" + target_name + \" with the style: \" + style_image)\n",
        "\n",
        "\n",
        "  model = vgg19.VGG19(weights=\"imagenet\", include_top=False)\n",
        "  outputs_dict = dict([(layer.name, layer.output) for layer in model.layers])\n",
        "  feature_extractor = keras.Model(inputs=model.inputs, outputs=outputs_dict)\n",
        "\n",
        "  # List of layers to use for the style loss.\n",
        "  style_layer_names = [\n",
        "      \"block1_conv1\",\n",
        "      \"block2_conv1\",\n",
        "      \"block3_conv1\",\n",
        "      \"block4_conv1\",\n",
        "      \"block5_conv1\",\n",
        "  ]\n",
        "  # The layer to use for the content loss.\n",
        "  content_layer_name = \"block5_conv2\"\n",
        "\n",
        "  optimizer = keras.optimizers.SGD(\n",
        "      keras.optimizers.schedules.ExponentialDecay(\n",
        "          initial_learning_rate=100.0, decay_steps=100, decay_rate=0.96\n",
        "      )\n",
        "  )\n",
        "\n",
        "  iterations = 100\n",
        "  for i in range(1, iterations + 1):\n",
        "      loss, grads = compute_loss_and_grads(\n",
        "          combination_image, base_image, style_reference_image, img_nrows, img_ncols, feature_extractor, content_layer_name, style_layer_names\n",
        "      )\n",
        "      optimizer.apply_gradients([(grads, combination_image)])\n",
        "      if i % 100 == 0:\n",
        "\n",
        "          print(\"Iteration %d: loss=%.2f\" % (i, loss))\n",
        "          img = deprocess_image(combination_image.numpy(), img_nrows, img_ncols)\n",
        "          fname = \"/content/outputs/\" + target_name + \"_\" + style_image + \"_\" + result_prefix + \"_at_iteration_%d.png\" % i\n",
        "          keras.preprocessing.image.save_img(fname, img)\n",
        "  clear_session()\n",
        "  del model, optimizer, feature_extractor\n",
        "  gc.collect()\n"
      ],
      "metadata": {
        "id": "C0wP6c10b_sR"
      },
      "execution_count": 11,
      "outputs": []
    },
    {
      "cell_type": "code",
      "source": [
        "for target_image_address in target_images:\n",
        "  for style_image_address in style_images:\n",
        "    get_styled_images(target_image_address, style_image_address)\n",
        "   # device = cuda.get_current_device()\n",
        "   # device.reset()"
      ],
      "metadata": {
        "id": "Xg4BYgX6I-eZ",
        "outputId": "3651303e-e7ab-404f-a7d9-46016b85b6e7",
        "colab": {
          "base_uri": "https://localhost:8080/"
        }
      },
      "execution_count": 12,
      "outputs": [
        {
          "output_type": "stream",
          "name": "stdout",
          "text": [
            "Current Image is :Masterlayer_Event221_SetA.png with the style: ghost_demon.jpg\n",
            "Iteration 100: loss=6358.52\n"
          ]
        }
      ]
    },
    {
      "cell_type": "code",
      "source": [
        "!/opt/bin/nvidia-smi"
      ],
      "metadata": {
        "id": "EsZTgWm7vRpD",
        "outputId": "b59655d4-2378-4421-c153-30a9a5296422",
        "colab": {
          "base_uri": "https://localhost:8080/"
        }
      },
      "execution_count": 13,
      "outputs": [
        {
          "output_type": "stream",
          "name": "stdout",
          "text": [
            "Thu Jan 18 18:19:20 2024       \n",
            "+---------------------------------------------------------------------------------------+\n",
            "| NVIDIA-SMI 535.104.05             Driver Version: 535.104.05   CUDA Version: 12.2     |\n",
            "|-----------------------------------------+----------------------+----------------------+\n",
            "| GPU  Name                 Persistence-M | Bus-Id        Disp.A | Volatile Uncorr. ECC |\n",
            "| Fan  Temp   Perf          Pwr:Usage/Cap |         Memory-Usage | GPU-Util  Compute M. |\n",
            "|                                         |                      |               MIG M. |\n",
            "|=========================================+======================+======================|\n",
            "|   0  Tesla T4                       Off | 00000000:00:04.0 Off |                    0 |\n",
            "| N/A   57C    P0              35W /  70W |   7421MiB / 15360MiB |      0%      Default |\n",
            "|                                         |                      |                  N/A |\n",
            "+-----------------------------------------+----------------------+----------------------+\n",
            "                                                                                         \n",
            "+---------------------------------------------------------------------------------------+\n",
            "| Processes:                                                                            |\n",
            "|  GPU   GI   CI        PID   Type   Process name                            GPU Memory |\n",
            "|        ID   ID                                                             Usage      |\n",
            "|=======================================================================================|\n",
            "+---------------------------------------------------------------------------------------+\n"
          ]
        }
      ]
    },
    {
      "cell_type": "code",
      "source": [
        "!ps -aux|grep python"
      ],
      "metadata": {
        "id": "-gh-LfWwv6pJ",
        "outputId": "5a72b0dd-588f-4933-f8c1-48c7261ffcee",
        "colab": {
          "base_uri": "https://localhost:8080/"
        }
      },
      "execution_count": 17,
      "outputs": [
        {
          "output_type": "stream",
          "name": "stdout",
          "text": [
            "root          59  0.2  0.0      0     0 ?        Z    17:44   0:06 [python3] <defunct>\n",
            "root          60  0.0  0.3  67772 52376 ?        S    17:44   0:00 python3 /usr/local/bin/colab-file\n",
            "root         106  0.2  0.8 357808 113772 ?       Rl   17:44   0:05 /usr/bin/python3 /usr/local/bin/j\n",
            "root        6252  5.0 11.9 18256952 1591376 ?    Ssl  18:07   0:39 /usr/bin/python3 -m colab_kernel_\n",
            "root        6277  0.0  0.1 539276 14288 ?        Sl   18:07   0:00 /usr/bin/python3 /usr/local/lib/p\n",
            "root        9579  0.0  0.0   7376  3452 ?        S    18:20   0:00 /bin/bash -c ps -aux|grep python\n",
            "root        9581  0.0  0.0   6484  2300 ?        S    18:20   0:00 grep python\n"
          ]
        }
      ]
    },
    {
      "cell_type": "code",
      "source": [],
      "metadata": {
        "id": "klnFKxI0y5sE"
      },
      "execution_count": 14,
      "outputs": []
    }
  ]
}