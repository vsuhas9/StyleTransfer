{
  "nbformat": 4,
  "nbformat_minor": 0,
  "metadata": {
    "colab": {
      "provenance": [],
      "gpuType": "T4",
      "authorship_tag": "ABX9TyPsHrRHC496fxmLKABPdkge",
      "include_colab_link": true
    },
    "kernelspec": {
      "name": "python3",
      "display_name": "Python 3"
    },
    "language_info": {
      "name": "python"
    },
    "accelerator": "GPU"
  },
  "cells": [
    {
      "cell_type": "markdown",
      "metadata": {
        "id": "view-in-github",
        "colab_type": "text"
      },
      "source": [
        "<a href=\"https://colab.research.google.com/github/vsuhas9/StyleTransfer/blob/dev-suhas/Style%20Transfer.ipynb\" target=\"_parent\"><img src=\"https://colab.research.google.com/assets/colab-badge.svg\" alt=\"Open In Colab\"/></a>"
      ]
    },
    {
      "cell_type": "markdown",
      "source": [
        "# Imports"
      ],
      "metadata": {
        "id": "J-mhYGQ6KpyU"
      }
    },
    {
      "cell_type": "code",
      "execution_count": 1,
      "metadata": {
        "id": "opFCfkhvJpZu"
      },
      "outputs": [],
      "source": [
        "# Package to handle files\n",
        "import os\n",
        "\n",
        "# Image Handling\n",
        "import numpy as np\n",
        "\n",
        "# Memory Handling\n",
        "import gc\n",
        "from numba import cuda\n",
        "\n",
        "# Tensorflow Componenets\n",
        "import tensorflow as tf\n",
        "from tensorflow import keras\n",
        "from tensorflow.keras.applications import vgg19\n",
        "from tensorflow.keras.backend import clear_session"
      ]
    },
    {
      "cell_type": "markdown",
      "source": [
        "# Few Initial Configuration"
      ],
      "metadata": {
        "id": "t7I-SWhdXHdK"
      }
    },
    {
      "cell_type": "code",
      "source": [
        "result_prefix = \"generated\"\n",
        "\n",
        "# Weights of the different loss components\n",
        "total_variation_weight = 1e-6\n",
        "style_weight = 1e-6\n",
        "content_weight = 2.5e-8\n",
        "\n",
        "# Dimensions of the generated picture.\n",
        "img_nrows = 600\n",
        "#img_ncols = int(width * img_nrows / height)"
      ],
      "metadata": {
        "id": "EkiRUuxpXH9q"
      },
      "execution_count": 2,
      "outputs": []
    },
    {
      "cell_type": "markdown",
      "source": [
        "# Download the Transfer Images and Style Images"
      ],
      "metadata": {
        "id": "7OUzEC6KLhba"
      }
    },
    {
      "cell_type": "code",
      "source": [
        "!rm -rf target_images.zip\n",
        "!rm -rf target_images\n",
        "\n",
        "!rm -rf style_images.zip\n",
        "!rm -rf style_images\n",
        "\n",
        "!rm -rf outputs\n",
        "\n",
        "!wget https://raw.githubusercontent.com/vsuhas9/StyleTransfer/dev-suhas/Images/target/target_images.zip\n",
        "!unzip /content/target_images.zip\n",
        "\n",
        "!wget https://raw.githubusercontent.com/vsuhas9/StyleTransfer/dev-suhas/Images/style/style_images.zip\n",
        "!unzip /content/style_images.zip\n",
        "\n",
        "!mkdir outputs"
      ],
      "metadata": {
        "colab": {
          "base_uri": "https://localhost:8080/"
        },
        "id": "8kSjloDMLl1A",
        "outputId": "0a17de62-6b3c-42af-d6a1-7a7767920eb9"
      },
      "execution_count": 3,
      "outputs": [
        {
          "output_type": "stream",
          "name": "stdout",
          "text": [
            "--2024-01-19 13:58:14--  https://raw.githubusercontent.com/vsuhas9/StyleTransfer/dev-suhas/Images/target/target_images.zip\n",
            "Resolving raw.githubusercontent.com (raw.githubusercontent.com)... 185.199.111.133, 185.199.108.133, 185.199.110.133, ...\n",
            "Connecting to raw.githubusercontent.com (raw.githubusercontent.com)|185.199.111.133|:443... connected.\n",
            "HTTP request sent, awaiting response... 200 OK\n",
            "Length: 5468160 (5.2M) [application/zip]\n",
            "Saving to: ‘target_images.zip’\n",
            "\n",
            "target_images.zip   100%[===================>]   5.21M  --.-KB/s    in 0.06s   \n",
            "\n",
            "2024-01-19 13:58:15 (90.2 MB/s) - ‘target_images.zip’ saved [5468160/5468160]\n",
            "\n",
            "Archive:  /content/target_images.zip\n",
            "   creating: target_images/\n",
            "  inflating: target_images/Masterlayer_Event221_SetA.png  \n",
            "--2024-01-19 13:58:15--  https://raw.githubusercontent.com/vsuhas9/StyleTransfer/dev-suhas/Images/style/style_images.zip\n",
            "Resolving raw.githubusercontent.com (raw.githubusercontent.com)... 185.199.108.133, 185.199.111.133, 185.199.109.133, ...\n",
            "Connecting to raw.githubusercontent.com (raw.githubusercontent.com)|185.199.108.133|:443... connected.\n",
            "HTTP request sent, awaiting response... 200 OK\n",
            "Length: 20480 (20K) [application/zip]\n",
            "Saving to: ‘style_images.zip’\n",
            "\n",
            "style_images.zip    100%[===================>]  20.00K  --.-KB/s    in 0.001s  \n",
            "\n",
            "2024-01-19 13:58:16 (26.9 MB/s) - ‘style_images.zip’ saved [20480/20480]\n",
            "\n",
            "Archive:  /content/style_images.zip\n",
            "   creating: style_images/\n",
            "  inflating: style_images/8f02369f42.jpg  \n"
          ]
        }
      ]
    },
    {
      "cell_type": "markdown",
      "source": [
        "# Image paths and other componenets"
      ],
      "metadata": {
        "id": "epRDRL9vXVld"
      }
    },
    {
      "cell_type": "code",
      "source": [
        "def list_files(folder_path):\n",
        "    files = []\n",
        "    for entry in os.listdir(folder_path):\n",
        "        if os.path.isfile(os.path.join(folder_path, entry)):\n",
        "            files.append( folder_path + entry)\n",
        "    return files\n",
        "\n",
        "# Example usage\n",
        "target_folder_path = '/content/target_images/'\n",
        "style_folder_path = '/content/style_images/'\n",
        "\n",
        "try:\n",
        "  target_images =  list_files(target_folder_path)\n",
        "  style_images = list_files(style_folder_path)\n",
        "\n",
        "  print(str(len(target_images)) + \" Target Images loaded & \" + str(len(style_images)) + \" Style Images loaded\" )\n",
        "except:\n",
        "  print(\"Error loading the files\")"
      ],
      "metadata": {
        "colab": {
          "base_uri": "https://localhost:8080/"
        },
        "id": "-3bMVz8oMrAP",
        "outputId": "709a693d-4b38-4e60-d17e-b671ec22f2e5"
      },
      "execution_count": 4,
      "outputs": [
        {
          "output_type": "stream",
          "name": "stdout",
          "text": [
            "1 Target Images loaded & 1 Style Images loaded\n"
          ]
        }
      ]
    },
    {
      "cell_type": "markdown",
      "source": [
        "# Image Pre-Processing"
      ],
      "metadata": {
        "id": "GinOLmdQa1e3"
      }
    },
    {
      "cell_type": "code",
      "source": [
        "def preprocess_image(image_path, img_nrows, img_ncols):\n",
        "    # Util function to open, resize and format\n",
        "    # pictures into appropriate tensors\n",
        "    img = keras.preprocessing.image.load_img(\n",
        "        image_path, target_size=(img_nrows, img_ncols)\n",
        "    )\n",
        "    img = keras.preprocessing.image.img_to_array(img)\n",
        "    img = np.expand_dims(img, axis=0)\n",
        "    img = vgg19.preprocess_input(img)\n",
        "    return tf.convert_to_tensor(img)\n",
        "\n",
        "\n",
        "def deprocess_image(x, img_nrows, img_ncols):\n",
        "    # Util function to convert a tensor into a valid image\n",
        "    x = x.reshape((img_nrows, img_ncols, 3))\n",
        "    # Remove zero-center by mean pixel\n",
        "    x[:, :, 0] += 103.939\n",
        "    x[:, :, 1] += 116.779\n",
        "    x[:, :, 2] += 123.68\n",
        "    # 'BGR'->'RGB'\n",
        "    x = x[:, :, ::-1]\n",
        "    x = np.clip(x, 0, 255).astype(\"uint8\")\n",
        "    return x"
      ],
      "metadata": {
        "id": "Sumo_LpQa2Ce"
      },
      "execution_count": 5,
      "outputs": []
    },
    {
      "cell_type": "markdown",
      "source": [
        "# Gram Matrix and Loss Calculation Functions"
      ],
      "metadata": {
        "id": "8RaD9HuXbL9S"
      }
    },
    {
      "cell_type": "code",
      "source": [
        "def gram_matrix(x, img_nrows, img_ncols):\n",
        "    x = tf.transpose(x, (2, 0, 1))\n",
        "    features = tf.reshape(x, (tf.shape(x)[0], -1))\n",
        "    gram = tf.matmul(features, tf.transpose(features))\n",
        "    return gram\n",
        "\n",
        "def style_loss(style, combination, img_nrows, img_ncols):\n",
        "    S = gram_matrix(style, img_nrows, img_ncols)\n",
        "    C = gram_matrix(combination, img_nrows, img_ncols)\n",
        "    channels = 3\n",
        "    size = img_nrows * img_ncols\n",
        "    return tf.reduce_sum(tf.square(S - C)) /\\\n",
        "      (4.0 * (channels ** 2) * (size ** 2))\n",
        "\n",
        "def content_loss(base, combination):\n",
        "    return tf.reduce_sum(tf.square(combination - base))\n",
        "\n",
        "def total_variation_loss(x, img_nrows, img_ncols):\n",
        "    a = tf.square(\n",
        "        x[:, : img_nrows - 1, : img_ncols - 1, :] \\\n",
        "          - x[:, 1:, : img_ncols - 1, :]\n",
        "    )\n",
        "    b = tf.square(\n",
        "        x[:, : img_nrows - 1, : img_ncols - 1, :] \\\n",
        "          - x[:, : img_nrows - 1, 1:, :]\n",
        "    )\n",
        "    return tf.reduce_sum(tf.pow(a + b, 1.25))"
      ],
      "metadata": {
        "id": "40g1tSJBbKSq"
      },
      "execution_count": 6,
      "outputs": []
    },
    {
      "cell_type": "markdown",
      "source": [
        "# VGG Neural Network"
      ],
      "metadata": {
        "id": "ZAyboOcnbn7b"
      }
    },
    {
      "cell_type": "code",
      "source": [
        "def compute_loss(combination_image, base_image, style_reference_image, img_nrows, img_ncols, feature_extractor, content_layer_name, style_layer_names):\n",
        "    input_tensor = tf.concat(\n",
        "        [base_image, style_reference_image, combination_image], axis=0\n",
        "    )\n",
        "    features = feature_extractor(input_tensor)\n",
        "\n",
        "    # Initialize the loss\n",
        "    loss = tf.zeros(shape=())\n",
        "\n",
        "    # Add content loss\n",
        "    layer_features = features[content_layer_name]\n",
        "    base_image_features = layer_features[0, :, :, :]\n",
        "    combination_features = layer_features[2, :, :, :]\n",
        "    loss = loss + content_weight * content_loss(\n",
        "        base_image_features, combination_features\n",
        "    )\n",
        "    # Add style loss\n",
        "    for layer_name in style_layer_names:\n",
        "        layer_features = features[layer_name]\n",
        "        style_reference_features = layer_features[1, :, :, :]\n",
        "        combination_features = layer_features[2, :, :, :]\n",
        "        sl = style_loss(style_reference_features, combination_features, img_nrows, img_ncols)\n",
        "        loss += (style_weight / len(style_layer_names)) * sl\n",
        "\n",
        "    # Add total variation loss\n",
        "    loss += total_variation_weight * \\\n",
        "      total_variation_loss(combination_image, img_nrows, img_ncols)\n",
        "    return loss\n",
        "\n",
        "@tf.function\n",
        "def compute_loss_and_grads(combination_image, \\\n",
        "                  base_image, style_reference_image, img_nrows, img_ncols, feature_extractor, content_layer_name, style_layer_names):\n",
        "    with tf.GradientTape() as tape:\n",
        "        loss = compute_loss(combination_image, \\\n",
        "                base_image, style_reference_image, img_nrows, img_ncols, feature_extractor, content_layer_name, style_layer_names)\n",
        "    grads = tape.gradient(loss, combination_image)\n",
        "    return loss, grads"
      ],
      "metadata": {
        "id": "pRqyhX2zbh5n"
      },
      "execution_count": 7,
      "outputs": []
    },
    {
      "cell_type": "code",
      "source": [
        "def get_styled_images(target_image_address, style_image_address,):\n",
        "\n",
        "  width, height = keras.preprocessing.image.load_img(target_image_address).size\n",
        "  img_nrows = 400\n",
        "  img_ncols = int(width * img_nrows / height)\n",
        "\n",
        "  target_name = target_image_address.replace(target_folder_path, \"\")\n",
        "  style_image = style_image_address.replace(style_folder_path, \"\")\n",
        "\n",
        "  base_image = preprocess_image(target_image_address, img_nrows, img_ncols)\n",
        "  style_reference_image = preprocess_image(style_image_address, img_nrows, img_ncols)\n",
        "  combination_image = tf.Variable(preprocess_image(target_image_address, img_nrows, img_ncols))\n",
        "  print(\"Current Image is :\" + target_name + \" with the style: \" + style_image)\n",
        "\n",
        "\n",
        "  model = vgg19.VGG19(weights=\"imagenet\", include_top=False)\n",
        "  outputs_dict = dict([(layer.name, layer.output) for layer in model.layers])\n",
        "  feature_extractor = keras.Model(inputs=model.inputs, outputs=outputs_dict)\n",
        "\n",
        "  # List of layers to use for the style loss.\n",
        "  style_layer_names = [\n",
        "      \"block1_conv1\",\n",
        "      \"block2_conv1\",\n",
        "      \"block3_conv1\",\n",
        "      \"block4_conv1\",\n",
        "      \"block5_conv1\",\n",
        "  ]\n",
        "  # The layer to use for the content loss.\n",
        "  content_layer_name = \"block5_conv2\"\n",
        "\n",
        "  optimizer = keras.optimizers.SGD(\n",
        "      keras.optimizers.schedules.ExponentialDecay(\n",
        "          initial_learning_rate=100.0, decay_steps=100, decay_rate=0.96\n",
        "      )\n",
        "  )\n",
        "\n",
        "  iterations = 3000\n",
        "  for i in range(1, iterations + 1):\n",
        "      loss, grads = compute_loss_and_grads(\n",
        "          combination_image, base_image, style_reference_image, img_nrows, img_ncols, feature_extractor, content_layer_name, style_layer_names\n",
        "      )\n",
        "      optimizer.apply_gradients([(grads, combination_image)])\n",
        "      if i % 100 == 0:\n",
        "\n",
        "          print(\"Iteration %d: loss=%.2f\" % (i, loss))\n",
        "          img = deprocess_image(combination_image.numpy(), img_nrows, img_ncols)\n",
        "          fname = \"/content/outputs/\" + target_name + \"_\" + style_image + \"_\" + result_prefix + \"_at_iteration_%d.png\" % i\n",
        "          keras.preprocessing.image.save_img(fname, img)\n",
        "  clear_session()\n",
        "  del model, optimizer, feature_extractor\n",
        "  gc.collect()\n"
      ],
      "metadata": {
        "id": "C0wP6c10b_sR"
      },
      "execution_count": 8,
      "outputs": []
    },
    {
      "cell_type": "code",
      "source": [
        "for target_image_address in target_images:\n",
        "  for style_image_address in style_images:\n",
        "    get_styled_images(target_image_address, style_image_address)\n",
        "   # device = cuda.get_current_device()\n",
        "   # device.reset()"
      ],
      "metadata": {
        "id": "Xg4BYgX6I-eZ",
        "outputId": "4928dfe6-7543-4367-f0f5-24ef7cc8a681",
        "colab": {
          "base_uri": "https://localhost:8080/"
        }
      },
      "execution_count": 9,
      "outputs": [
        {
          "output_type": "stream",
          "name": "stdout",
          "text": [
            "Current Image is :Masterlayer_Event221_SetA.png with the style: 8f02369f42.jpg\n",
            "Downloading data from https://storage.googleapis.com/tensorflow/keras-applications/vgg19/vgg19_weights_tf_dim_ordering_tf_kernels_notop.h5\n",
            "80134624/80134624 [==============================] - 1s 0us/step\n",
            "Iteration 100: loss=2650.50\n",
            "Iteration 200: loss=1369.12\n",
            "Iteration 300: loss=992.19\n",
            "Iteration 400: loss=819.27\n",
            "Iteration 500: loss=720.63\n",
            "Iteration 600: loss=656.90\n",
            "Iteration 700: loss=612.34\n",
            "Iteration 800: loss=579.38\n",
            "Iteration 900: loss=553.99\n",
            "Iteration 1000: loss=533.79\n",
            "Iteration 1100: loss=517.33\n",
            "Iteration 1200: loss=503.68\n",
            "Iteration 1300: loss=492.18\n",
            "Iteration 1400: loss=482.34\n",
            "Iteration 1500: loss=473.81\n",
            "Iteration 1600: loss=466.37\n",
            "Iteration 1700: loss=459.81\n",
            "Iteration 1800: loss=453.97\n",
            "Iteration 1900: loss=448.75\n",
            "Iteration 2000: loss=444.05\n",
            "Iteration 2100: loss=439.81\n",
            "Iteration 2200: loss=435.97\n",
            "Iteration 2300: loss=432.47\n",
            "Iteration 2400: loss=429.27\n",
            "Iteration 2500: loss=426.34\n",
            "Iteration 2600: loss=423.65\n",
            "Iteration 2700: loss=421.15\n",
            "Iteration 2800: loss=418.85\n",
            "Iteration 2900: loss=416.72\n",
            "Iteration 3000: loss=414.74\n"
          ]
        }
      ]
    },
    {
      "cell_type": "code",
      "source": [
        "!/opt/bin/nvidia-smi"
      ],
      "metadata": {
        "id": "EsZTgWm7vRpD",
        "outputId": "16530a83-82a7-42c4-b945-745fe4d3d9a6",
        "colab": {
          "base_uri": "https://localhost:8080/"
        }
      },
      "execution_count": 10,
      "outputs": [
        {
          "output_type": "stream",
          "name": "stdout",
          "text": [
            "Fri Jan 19 14:10:54 2024       \n",
            "+---------------------------------------------------------------------------------------+\n",
            "| NVIDIA-SMI 535.104.05             Driver Version: 535.104.05   CUDA Version: 12.2     |\n",
            "|-----------------------------------------+----------------------+----------------------+\n",
            "| GPU  Name                 Persistence-M | Bus-Id        Disp.A | Volatile Uncorr. ECC |\n",
            "| Fan  Temp   Perf          Pwr:Usage/Cap |         Memory-Usage | GPU-Util  Compute M. |\n",
            "|                                         |                      |               MIG M. |\n",
            "|=========================================+======================+======================|\n",
            "|   0  Tesla T4                       Off | 00000000:00:04.0 Off |                    0 |\n",
            "| N/A   76C    P0              37W /  70W |   7421MiB / 15360MiB |      0%      Default |\n",
            "|                                         |                      |                  N/A |\n",
            "+-----------------------------------------+----------------------+----------------------+\n",
            "                                                                                         \n",
            "+---------------------------------------------------------------------------------------+\n",
            "| Processes:                                                                            |\n",
            "|  GPU   GI   CI        PID   Type   Process name                            GPU Memory |\n",
            "|        ID   ID                                                             Usage      |\n",
            "|=======================================================================================|\n",
            "+---------------------------------------------------------------------------------------+\n"
          ]
        }
      ]
    },
    {
      "cell_type": "code",
      "source": [
        "!ps -aux|grep python"
      ],
      "metadata": {
        "id": "-gh-LfWwv6pJ",
        "outputId": "4e238d79-ece0-4c26-c5aa-405036a9e617",
        "colab": {
          "base_uri": "https://localhost:8080/"
        }
      },
      "execution_count": 11,
      "outputs": [
        {
          "output_type": "stream",
          "name": "stdout",
          "text": [
            "root          60  0.6  0.0      0     0 ?        Z    13:57   0:05 [python3] <defunct>\n",
            "root          61  0.0  0.3  66440 51488 ?        S    13:57   0:00 python3 /usr/local/bin/colab-file\n",
            "root         107  0.3  0.8 357752 113720 ?       Sl   13:57   0:03 /usr/bin/python3 /usr/local/bin/j\n",
            "root         272 96.9 12.1 18277388 1612104 ?    Ssl  13:57  12:37 /usr/bin/python3 -m colab_kernel_\n",
            "root         303  0.2  0.1 540300 15400 ?        Sl   13:57   0:02 /usr/bin/python3 /usr/local/lib/p\n",
            "root        3580  0.0  0.0   7376  3484 ?        S    14:10   0:00 /bin/bash -c ps -aux|grep python\n",
            "root        3582  0.0  0.0   6484  2244 ?        S    14:10   0:00 grep python\n"
          ]
        }
      ]
    },
    {
      "cell_type": "code",
      "source": [],
      "metadata": {
        "id": "klnFKxI0y5sE"
      },
      "execution_count": 11,
      "outputs": []
    }
  ]
}