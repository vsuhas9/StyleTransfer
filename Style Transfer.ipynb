{
  "nbformat": 4,
  "nbformat_minor": 0,
  "metadata": {
    "colab": {
      "provenance": [],
      "gpuType": "T4",
      "authorship_tag": "ABX9TyPObxTDOsCY2olHFBgkADd1",
      "include_colab_link": true
    },
    "kernelspec": {
      "name": "python3",
      "display_name": "Python 3"
    },
    "language_info": {
      "name": "python"
    },
    "accelerator": "GPU"
  },
  "cells": [
    {
      "cell_type": "markdown",
      "metadata": {
        "id": "view-in-github",
        "colab_type": "text"
      },
      "source": [
        "<a href=\"https://colab.research.google.com/github/vsuhas9/StyleTransfer/blob/dev-suhas/Style%20Transfer.ipynb\" target=\"_parent\"><img src=\"https://colab.research.google.com/assets/colab-badge.svg\" alt=\"Open In Colab\"/></a>"
      ]
    },
    {
      "cell_type": "markdown",
      "source": [
        "# Imports"
      ],
      "metadata": {
        "id": "J-mhYGQ6KpyU"
      }
    },
    {
      "cell_type": "code",
      "execution_count": 18,
      "metadata": {
        "id": "opFCfkhvJpZu"
      },
      "outputs": [],
      "source": [
        "# Package to handle files\n",
        "import os\n",
        "\n",
        "# Image Handling\n",
        "import numpy as np\n",
        "\n",
        "# Tensorflow Componenets\n",
        "import tensorflow as tf\n",
        "from tensorflow import keras\n",
        "from tensorflow.keras.applications import vgg19"
      ]
    },
    {
      "cell_type": "markdown",
      "source": [
        "# Few Initial Configuration"
      ],
      "metadata": {
        "id": "t7I-SWhdXHdK"
      }
    },
    {
      "cell_type": "code",
      "source": [
        "result_prefix = \"generated\"\n",
        "\n",
        "# Weights of the different loss components\n",
        "total_variation_weight = 1e-6\n",
        "style_weight = 1e-6\n",
        "content_weight = 2.5e-8\n",
        "\n",
        "# Dimensions of the generated picture.\n",
        "img_nrows = 600\n",
        "#img_ncols = int(width * img_nrows / height)"
      ],
      "metadata": {
        "id": "EkiRUuxpXH9q"
      },
      "execution_count": 19,
      "outputs": []
    },
    {
      "cell_type": "markdown",
      "source": [
        "# Download the Transfer Images and Style Images"
      ],
      "metadata": {
        "id": "7OUzEC6KLhba"
      }
    },
    {
      "cell_type": "code",
      "source": [
        "!rm -rf target_images.zip\n",
        "!rm -rf target_images\n",
        "\n",
        "!rm -rf style_images.zip\n",
        "!rm -rf style_images\n",
        "\n",
        "!rm -rf outputs\n",
        "\n",
        "!wget https://raw.githubusercontent.com/vsuhas9/StyleTransfer/dev-suhas/Images/target/target_images.zip\n",
        "!unzip /content/target_images.zip\n",
        "\n",
        "!wget https://raw.githubusercontent.com/vsuhas9/StyleTransfer/dev-suhas/Images/style/style_images.zip\n",
        "!unzip /content/style_images.zip\n",
        "\n",
        "!mkdir outputs"
      ],
      "metadata": {
        "colab": {
          "base_uri": "https://localhost:8080/"
        },
        "id": "8kSjloDMLl1A",
        "outputId": "2e69cf69-fcc5-48fc-dc91-fa3152e6dead"
      },
      "execution_count": 20,
      "outputs": [
        {
          "output_type": "stream",
          "name": "stdout",
          "text": [
            "--2024-01-18 16:00:24--  https://raw.githubusercontent.com/vsuhas9/StyleTransfer/dev-suhas/Images/target/target_images.zip\n",
            "Resolving raw.githubusercontent.com (raw.githubusercontent.com)... 185.199.109.133, 185.199.111.133, 185.199.110.133, ...\n",
            "Connecting to raw.githubusercontent.com (raw.githubusercontent.com)|185.199.109.133|:443... connected.\n",
            "HTTP request sent, awaiting response... 200 OK\n",
            "Length: 5468160 (5.2M) [application/zip]\n",
            "Saving to: ‘target_images.zip’\n",
            "\n",
            "\rtarget_images.zip     0%[                    ]       0  --.-KB/s               \rtarget_images.zip   100%[===================>]   5.21M  --.-KB/s    in 0.08s   \n",
            "\n",
            "2024-01-18 16:00:24 (65.5 MB/s) - ‘target_images.zip’ saved [5468160/5468160]\n",
            "\n",
            "Archive:  /content/target_images.zip\n",
            "   creating: target_images/\n",
            "  inflating: target_images/Masterlayer_Event221_SetA.png  \n",
            "--2024-01-18 16:00:24--  https://raw.githubusercontent.com/vsuhas9/StyleTransfer/dev-suhas/Images/style/style_images.zip\n",
            "Resolving raw.githubusercontent.com (raw.githubusercontent.com)... 185.199.110.133, 185.199.108.133, 185.199.109.133, ...\n",
            "Connecting to raw.githubusercontent.com (raw.githubusercontent.com)|185.199.110.133|:443... connected.\n",
            "HTTP request sent, awaiting response... 200 OK\n",
            "Length: 71680 (70K) [application/zip]\n",
            "Saving to: ‘style_images.zip’\n",
            "\n",
            "style_images.zip    100%[===================>]  70.00K  --.-KB/s    in 0.01s   \n",
            "\n",
            "2024-01-18 16:00:24 (5.83 MB/s) - ‘style_images.zip’ saved [71680/71680]\n",
            "\n",
            "Archive:  /content/style_images.zip\n",
            "   creating: style_images/\n",
            "  inflating: style_images/ghost_demon.jpg  \n"
          ]
        }
      ]
    },
    {
      "cell_type": "markdown",
      "source": [
        "# Image paths and other componenets"
      ],
      "metadata": {
        "id": "epRDRL9vXVld"
      }
    },
    {
      "cell_type": "code",
      "source": [
        "def list_files(folder_path):\n",
        "    files = []\n",
        "    for entry in os.listdir(folder_path):\n",
        "        if os.path.isfile(os.path.join(folder_path, entry)):\n",
        "            files.append( folder_path + entry)\n",
        "    return files\n",
        "\n",
        "# Example usage\n",
        "target_folder_path = '/content/target_images/'\n",
        "style_folder_path = '/content/style_images/'\n",
        "\n",
        "try:\n",
        "  target_images =  list_files(target_folder_path)\n",
        "  style_images = list_files(style_folder_path)\n",
        "\n",
        "  print(str(len(target_images)) + \" Target Images loaded & \" + str(len(style_images)) + \" Style Images loaded\" )\n",
        "except:\n",
        "  print(\"Error loading the files\")"
      ],
      "metadata": {
        "colab": {
          "base_uri": "https://localhost:8080/"
        },
        "id": "-3bMVz8oMrAP",
        "outputId": "26ef3e74-93af-4086-8536-85f2926e92ff"
      },
      "execution_count": 21,
      "outputs": [
        {
          "output_type": "stream",
          "name": "stdout",
          "text": [
            "1 Target Images loaded & 1 Style Images loaded\n"
          ]
        }
      ]
    },
    {
      "cell_type": "markdown",
      "source": [
        "# Image Pre-Processing"
      ],
      "metadata": {
        "id": "GinOLmdQa1e3"
      }
    },
    {
      "cell_type": "code",
      "source": [
        "def preprocess_image(image_path, img_nrows, img_ncols):\n",
        "    # Util function to open, resize and format\n",
        "    # pictures into appropriate tensors\n",
        "    img = keras.preprocessing.image.load_img(\n",
        "        image_path, target_size=(img_nrows, img_ncols)\n",
        "    )\n",
        "    img = keras.preprocessing.image.img_to_array(img)\n",
        "    img = np.expand_dims(img, axis=0)\n",
        "    img = vgg19.preprocess_input(img)\n",
        "    return tf.convert_to_tensor(img)\n",
        "\n",
        "\n",
        "def deprocess_image(x, img_nrows, img_ncols):\n",
        "    # Util function to convert a tensor into a valid image\n",
        "    x = x.reshape((img_nrows, img_ncols, 3))\n",
        "    # Remove zero-center by mean pixel\n",
        "    x[:, :, 0] += 103.939\n",
        "    x[:, :, 1] += 116.779\n",
        "    x[:, :, 2] += 123.68\n",
        "    # 'BGR'->'RGB'\n",
        "    x = x[:, :, ::-1]\n",
        "    x = np.clip(x, 0, 255).astype(\"uint8\")\n",
        "    return x"
      ],
      "metadata": {
        "id": "Sumo_LpQa2Ce"
      },
      "execution_count": 22,
      "outputs": []
    },
    {
      "cell_type": "markdown",
      "source": [
        "# Gram Matrix and Loss Calculation Functions"
      ],
      "metadata": {
        "id": "8RaD9HuXbL9S"
      }
    },
    {
      "cell_type": "code",
      "source": [
        "def gram_matrix(x, img_nrows, img_ncols):\n",
        "    x = tf.transpose(x, (2, 0, 1))\n",
        "    features = tf.reshape(x, (tf.shape(x)[0], -1))\n",
        "    gram = tf.matmul(features, tf.transpose(features))\n",
        "    return gram\n",
        "\n",
        "def style_loss(style, combination, img_nrows, img_ncols):\n",
        "    S = gram_matrix(style, img_nrows, img_ncols)\n",
        "    C = gram_matrix(combination, img_nrows, img_ncols)\n",
        "    channels = 3\n",
        "    size = img_nrows * img_ncols\n",
        "    return tf.reduce_sum(tf.square(S - C)) /\\\n",
        "      (4.0 * (channels ** 2) * (size ** 2))\n",
        "\n",
        "def content_loss(base, combination):\n",
        "    return tf.reduce_sum(tf.square(combination - base))\n",
        "\n",
        "def total_variation_loss(x, img_nrows, img_ncols):\n",
        "    a = tf.square(\n",
        "        x[:, : img_nrows - 1, : img_ncols - 1, :] \\\n",
        "          - x[:, 1:, : img_ncols - 1, :]\n",
        "    )\n",
        "    b = tf.square(\n",
        "        x[:, : img_nrows - 1, : img_ncols - 1, :] \\\n",
        "          - x[:, : img_nrows - 1, 1:, :]\n",
        "    )\n",
        "    return tf.reduce_sum(tf.pow(a + b, 1.25))"
      ],
      "metadata": {
        "id": "40g1tSJBbKSq"
      },
      "execution_count": 23,
      "outputs": []
    },
    {
      "cell_type": "markdown",
      "source": [
        "# VGG Neural Network"
      ],
      "metadata": {
        "id": "ZAyboOcnbn7b"
      }
    },
    {
      "cell_type": "code",
      "source": [
        "model = vgg19.VGG19(weights=\"imagenet\", include_top=False)\n",
        "outputs_dict = dict([(layer.name, layer.output) for layer in model.layers])\n",
        "feature_extractor = keras.Model(inputs=model.inputs, outputs=outputs_dict)\n",
        "\n",
        "# List of layers to use for the style loss.\n",
        "style_layer_names = [\n",
        "    \"block1_conv1\",\n",
        "    \"block2_conv1\",\n",
        "    \"block3_conv1\",\n",
        "    \"block4_conv1\",\n",
        "    \"block5_conv1\",\n",
        "]\n",
        "# The layer to use for the content loss.\n",
        "content_layer_name = \"block5_conv2\"\n",
        "\n",
        "\n",
        "def compute_loss(combination_image, base_image, style_reference_image, img_nrows, img_ncols):\n",
        "    input_tensor = tf.concat(\n",
        "        [base_image, style_reference_image, combination_image], axis=0\n",
        "    )\n",
        "    features = feature_extractor(input_tensor)\n",
        "\n",
        "    # Initialize the loss\n",
        "    loss = tf.zeros(shape=())\n",
        "\n",
        "    # Add content loss\n",
        "    layer_features = features[content_layer_name]\n",
        "    base_image_features = layer_features[0, :, :, :]\n",
        "    combination_features = layer_features[2, :, :, :]\n",
        "    loss = loss + content_weight * content_loss(\n",
        "        base_image_features, combination_features\n",
        "    )\n",
        "    # Add style loss\n",
        "    for layer_name in style_layer_names:\n",
        "        layer_features = features[layer_name]\n",
        "        style_reference_features = layer_features[1, :, :, :]\n",
        "        combination_features = layer_features[2, :, :, :]\n",
        "        sl = style_loss(style_reference_features, combination_features, img_nrows, img_ncols)\n",
        "        loss += (style_weight / len(style_layer_names)) * sl\n",
        "\n",
        "    # Add total variation loss\n",
        "    loss += total_variation_weight * \\\n",
        "      total_variation_loss(combination_image, img_nrows, img_ncols)\n",
        "    return loss\n",
        "\n",
        "@tf.function\n",
        "def compute_loss_and_grads(combination_image, \\\n",
        "                  base_image, style_reference_image, img_nrows, img_ncols):\n",
        "    with tf.GradientTape() as tape:\n",
        "        loss = compute_loss(combination_image, \\\n",
        "                base_image, style_reference_image, img_nrows, img_ncols)\n",
        "    grads = tape.gradient(loss, combination_image)\n",
        "    return loss, grads\n",
        "\n",
        "optimizer = keras.optimizers.SGD(\n",
        "    keras.optimizers.schedules.ExponentialDecay(\n",
        "        initial_learning_rate=100.0, decay_steps=100, decay_rate=0.96\n",
        "    )\n",
        ")"
      ],
      "metadata": {
        "id": "pRqyhX2zbh5n"
      },
      "execution_count": 24,
      "outputs": []
    },
    {
      "cell_type": "code",
      "source": [
        "def get_styled_images(target_images, style_images):\n",
        "\n",
        "  for target_image_address in target_images:\n",
        "    for style_image_address in style_images:\n",
        "\n",
        "      width, height = keras.preprocessing.image.load_img(target_image_address).size\n",
        "      img_nrows = 400\n",
        "      img_ncols = int(width * img_nrows / height)\n",
        "\n",
        "      target_name = target_image_address.replace(target_folder_path, \"\")\n",
        "      style_image = style_image_address.replace(style_folder_path, \"\")\n",
        "\n",
        "      base_image = preprocess_image(target_image_address, img_nrows, img_ncols)\n",
        "      style_reference_image = preprocess_image(style_image_address, img_nrows, img_ncols)\n",
        "      combination_image = tf.Variable(preprocess_image(target_image_address, img_nrows, img_ncols))\n",
        "      print(\"Current Image is :\" + target_name + \" with the style: \" + style_image)\n",
        "\n",
        "      iterations = 3000\n",
        "      for i in range(1, iterations + 1):\n",
        "          loss, grads = compute_loss_and_grads(\n",
        "              combination_image, base_image, style_reference_image, img_nrows, img_ncols\n",
        "          )\n",
        "          optimizer.apply_gradients([(grads, combination_image)])\n",
        "          if i % 3000 == 0:\n",
        "\n",
        "              print(\"Iteration %d: loss=%.2f\" % (i, loss))\n",
        "              img = deprocess_image(combination_image.numpy(), img_nrows, img_ncols)\n",
        "              fname = \"/content/outputs/\" + target_name + \"_\" + style_image + \"_\" + result_prefix + \"_at_iteration_%d.png\" % i\n",
        "              keras.preprocessing.image.save_img(fname, img)"
      ],
      "metadata": {
        "id": "C0wP6c10b_sR"
      },
      "execution_count": 26,
      "outputs": []
    },
    {
      "cell_type": "code",
      "source": [
        "get_styled_images(target_images, style_images)"
      ],
      "metadata": {
        "id": "Xg4BYgX6I-eZ",
        "outputId": "a86fa167-bf51-4369-f27d-6e7a2ac9a34d",
        "colab": {
          "base_uri": "https://localhost:8080/"
        }
      },
      "execution_count": 27,
      "outputs": [
        {
          "output_type": "stream",
          "name": "stdout",
          "text": [
            "Current Image is :Masterlayer_Event221_SetA.png with the style: ghost_demon.jpg\n",
            "Iteration 50: loss=9234.76\n"
          ]
        }
      ]
    },
    {
      "cell_type": "code",
      "source": [],
      "metadata": {
        "id": "QuOPXmP5MdiV"
      },
      "execution_count": null,
      "outputs": []
    }
  ]
}