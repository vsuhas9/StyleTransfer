{
  "nbformat": 4,
  "nbformat_minor": 0,
  "metadata": {
    "colab": {
      "provenance": [],
      "authorship_tag": "ABX9TyOCWhsuSkgWZ8XBjtkx7kkE",
      "include_colab_link": true
    },
    "kernelspec": {
      "name": "python3",
      "display_name": "Python 3"
    },
    "language_info": {
      "name": "python"
    }
  },
  "cells": [
    {
      "cell_type": "markdown",
      "metadata": {
        "id": "view-in-github",
        "colab_type": "text"
      },
      "source": [
        "<a href=\"https://colab.research.google.com/github/vsuhas9/StyleTransfer/blob/dev-suhas/Style%20Transfer.ipynb\" target=\"_parent\"><img src=\"https://colab.research.google.com/assets/colab-badge.svg\" alt=\"Open In Colab\"/></a>"
      ]
    },
    {
      "cell_type": "markdown",
      "source": [
        "# Imports"
      ],
      "metadata": {
        "id": "J-mhYGQ6KpyU"
      }
    },
    {
      "cell_type": "code",
      "execution_count": 36,
      "metadata": {
        "id": "opFCfkhvJpZu"
      },
      "outputs": [],
      "source": [
        "# Package to handle files\n",
        "import os\n",
        "\n",
        "# Image Handling\n",
        "import numpy as np\n",
        "\n",
        "# Tensorflow Componenets\n",
        "import tensorflow as tf\n",
        "from tensorflow import keras\n",
        "from tensorflow.keras.applications import vgg19"
      ]
    },
    {
      "cell_type": "markdown",
      "source": [
        "# Few Initial Configuration"
      ],
      "metadata": {
        "id": "t7I-SWhdXHdK"
      }
    },
    {
      "cell_type": "code",
      "source": [
        "result_prefix = \"generated\"\n",
        "\n",
        "# Weights of the different loss components\n",
        "total_variation_weight = 1e-6\n",
        "style_weight = 1e-6\n",
        "content_weight = 2.5e-8\n",
        "\n",
        "# Dimensions of the generated picture.\n",
        "img_nrows = 600\n",
        "#img_ncols = int(width * img_nrows / height)"
      ],
      "metadata": {
        "id": "EkiRUuxpXH9q"
      },
      "execution_count": null,
      "outputs": []
    },
    {
      "cell_type": "markdown",
      "source": [
        "# Download the Transfer Images and Style Images"
      ],
      "metadata": {
        "id": "7OUzEC6KLhba"
      }
    },
    {
      "cell_type": "code",
      "source": [
        "!rm -rf target_images.zip\n",
        "!rm -rf target_images\n",
        "!wget https://raw.githubusercontent.com/vsuhas9/StyleTransfer/dev-suhas/Images/target/target_images.zip\n",
        "!unzip /content/target_images.zip\n",
        "\n",
        "!rm -rf style_images.zip\n",
        "!rm -rf style_images\n",
        "#!wget https://raw.githubusercontent.com/vsuhas9/StyleTransfer/dev-suhas/Images/style/style_images.zip\n",
        "#!unzip /content/style_images.zip"
      ],
      "metadata": {
        "id": "8kSjloDMLl1A",
        "outputId": "36cdf3d7-dc8a-4a69-d295-91294982d533",
        "colab": {
          "base_uri": "https://localhost:8080/"
        }
      },
      "execution_count": 34,
      "outputs": [
        {
          "output_type": "stream",
          "name": "stdout",
          "text": [
            "--2024-01-18 11:36:12--  https://raw.githubusercontent.com/vsuhas9/StyleTransfer/dev-suhas/Images/target/target_images.zip\n",
            "Resolving raw.githubusercontent.com (raw.githubusercontent.com)... 185.199.110.133, 185.199.109.133, 185.199.108.133, ...\n",
            "Connecting to raw.githubusercontent.com (raw.githubusercontent.com)|185.199.110.133|:443... connected.\n",
            "HTTP request sent, awaiting response... 200 OK\n",
            "Length: 16394240 (16M) [application/zip]\n",
            "Saving to: ‘target_images.zip’\n",
            "\n",
            "\rtarget_images.zip     0%[                    ]       0  --.-KB/s               \rtarget_images.zip   100%[===================>]  15.63M  --.-KB/s    in 0.1s    \n",
            "\n",
            "2024-01-18 11:36:12 (129 MB/s) - ‘target_images.zip’ saved [16394240/16394240]\n",
            "\n",
            "Archive:  /content/target_images.zip\n",
            "   creating: target_images/\n",
            "  inflating: target_images/Bench_Event221_SetA.png  \n",
            "  inflating: target_images/BG.png    \n",
            "  inflating: target_images/Bushes1_Event221_SetA.png  \n",
            "  inflating: target_images/Bushes2_Event221_SetA.png  \n",
            "  inflating: target_images/Bushes3_Event221_SetA.png  \n",
            "  inflating: target_images/Bushes4_Event221_SetA.png  \n",
            "  inflating: target_images/Car_Event221_SetA.png  \n",
            "  inflating: target_images/Christmas_Tree_Event221_SetA.png  \n",
            "  inflating: target_images/Door_Event221_SetA.png  \n",
            "  inflating: target_images/Dormer1_Event221_SetA.png  \n",
            "  inflating: target_images/Dormer2_Event221_SetA.png  \n",
            "  inflating: target_images/Fence_Event221_SetA.png  \n",
            "  inflating: target_images/Flooring_Event221_SetA.png  \n",
            "  inflating: target_images/Front_Tree_Event221_SetA.png  \n",
            "  inflating: target_images/Garage_Door_Event221_SetA.png  \n",
            "  inflating: target_images/Garage_Roof_Event221_SetA.png  \n",
            "  inflating: target_images/Garage_Wall_Event221_SetA.png  \n",
            "  inflating: target_images/Hedge_Event221_SetA.png  \n",
            "  inflating: target_images/Lower_Wall_Event221_SetA.png  \n",
            "  inflating: target_images/Lower_Window1_Event221_SetA.png  \n",
            "  inflating: target_images/Lower_Window2_Event221_SetA.png  \n",
            "  inflating: target_images/Masterlayer_Event221_SetA.png  \n",
            "  inflating: target_images/Path_Lights_Event221_SetA.png  \n",
            "  inflating: target_images/Plants_Event221_SetA.png  \n",
            "  inflating: target_images/Porch_Event221_SetA.png  \n",
            "  inflating: target_images/Porch_Railing_Event221_SetA.png  \n",
            "  inflating: target_images/Porch_Roof_Event221_SetA.png  \n",
            "  inflating: target_images/Railing_Decor_Event221_SetA.png  \n",
            "  inflating: target_images/Roof_Event221_SetA.png  \n",
            "  inflating: target_images/Snowman_Event221_SetA.png  \n",
            "  inflating: target_images/Stairs_Decor_Event221_SetA.png  \n",
            "  inflating: target_images/Stairs_Event221_SetA.png  \n",
            "  inflating: target_images/Trees_Event221_SetA.png  \n",
            "  inflating: target_images/Upper_Wall_Event221_SetA.png  \n"
          ]
        }
      ]
    },
    {
      "cell_type": "markdown",
      "source": [
        "# Image paths and other componenets"
      ],
      "metadata": {
        "id": "epRDRL9vXVld"
      }
    },
    {
      "cell_type": "code",
      "source": [
        "def list_files(folder_path):\n",
        "    files = []\n",
        "    for entry in os.listdir(folder_path):\n",
        "        if os.path.isfile(os.path.join(folder_path, entry)):\n",
        "            files.append( folder_path + entry)\n",
        "    return files\n",
        "\n",
        "# Example usage\n",
        "target_folder_path = '/content/target_images/'\n",
        "style_folder_path = '/content/target_images/'\n",
        "\n",
        "try:\n",
        "  target_images = [keras.preprocessing.image.load_img(img_path) for img_path in list_files(target_folder_path)]\n",
        "  style_images = [keras.preprocessing.image.load_img(img_path) for img_path in list_files(style_folder_path)]\n",
        "\n",
        "  print(str(len(target_images)) + \" Target Images loaded & \" + str(len(style_images)) + \" Style Images loaded\" )\n",
        "except:\n",
        "  print(\"Error loading the files\")"
      ],
      "metadata": {
        "id": "-3bMVz8oMrAP",
        "outputId": "2beb9817-cee7-465d-9ea1-5b44f4380131",
        "colab": {
          "base_uri": "https://localhost:8080/"
        }
      },
      "execution_count": 41,
      "outputs": [
        {
          "output_type": "stream",
          "name": "stdout",
          "text": [
            "34 Target Images loaded & 34 Style Images loaded\n",
            "\n"
          ]
        }
      ]
    },
    {
      "cell_type": "code",
      "source": [],
      "metadata": {
        "id": "AzSltWJaYMWk"
      },
      "execution_count": null,
      "outputs": []
    }
  ]
}